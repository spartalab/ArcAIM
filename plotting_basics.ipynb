{
 "cells": [
  {
   "cell_type": "code",
   "execution_count": 1,
   "metadata": {},
   "outputs": [],
   "source": [
    "%matplotlib widget\n",
    "# %matplotlib inline\n",
    "\n",
    "from importlib import reload\n",
    "\n",
    "# from IPython.display import HTML\n",
    "from matplotlib.animation import FFMpegFileWriter\n",
    "from matplotlib.pyplot import show\n",
    "\n",
    "import aimsim.shared as SHARED\n",
    "from aimsim.intersection.managers import FCFSManager\n",
    "from scenarios.road_only import OneLaneRoadSim, TwoLaneRoadSim, \\\n",
    "    ThreeLaneRoadSim\n",
    "from scenarios import *\n",
    "\n",
    "def save_mp4(anim, filename):\n",
    "    anim.save(filename, writer = FFMpegFileWriter(fps=60))"
   ]
  },
  {
   "cell_type": "code",
   "execution_count": 2,
   "metadata": {},
   "outputs": [
    {
     "data": {
      "application/vnd.jupyter.widget-view+json": {
       "model_id": "4303e14bb0a541d88fbfe5bf5d8dcc5d",
       "version_major": 2,
       "version_minor": 0
      },
      "text/plain": [
       "Canvas(toolbar=Toolbar(toolitems=[('Home', 'Reset original view', 'home', 'home'), ('Back', 'Back to previous …"
      ]
     },
     "metadata": {},
     "output_type": "display_data"
    }
   ],
   "source": [
    "anim = OneLaneRoadSim().animate()\n",
    "show()"
   ]
  },
  {
   "cell_type": "code",
   "execution_count": null,
   "metadata": {},
   "outputs": [],
   "source": [
    "reload(SHARED)\n",
    "anim = TwoLaneRoadSim().animate()\n",
    "show()"
   ]
  },
  {
   "cell_type": "code",
   "execution_count": null,
   "metadata": {},
   "outputs": [],
   "source": [
    "reload(SHARED)\n",
    "anim = ThreeLaneRoadSim().animate()\n",
    "show()"
   ]
  },
  {
   "cell_type": "code",
   "execution_count": null,
   "metadata": {},
   "outputs": [],
   "source": [
    "reload(SHARED)\n",
    "sim = SingleLaneXNoTurnsSim(length=30)\n",
    "anim = sim.animate(max_timestep=30*60)\n",
    "show()"
   ]
  },
  {
   "cell_type": "code",
   "execution_count": 2,
   "metadata": {},
   "outputs": [
    {
     "data": {
      "application/vnd.jupyter.widget-view+json": {
       "model_id": "bae1b6ebbd6840f0b9ac0ae88cee4597",
       "version_major": 2,
       "version_minor": 0
      },
      "text/plain": [
       "Canvas(toolbar=Toolbar(toolitems=[('Home', 'Reset original view', 'home', 'home'), ('Back', 'Back to previous …"
      ]
     },
     "metadata": {},
     "output_type": "display_data"
    },
    {
     "name": "stderr",
     "output_type": "stream",
     "text": [
      "/home/carlin/projects/naaims/aimsim/pathfinder.py:66: UserWarning: TODO: with inferred destinations\n",
      "  warn(\"TODO: with inferred destinations\")\n"
     ]
    }
   ],
   "source": [
    "reload(SHARED)\n",
    "sim = SingleLaneXNoTurnsSim(length=30)\n",
    "anim = sim.animate(max_timestep=2*60*60)\n",
    "save_mp4(anim, 'stop.mp4')\n",
    "# show()"
   ]
  },
  {
   "cell_type": "code",
   "execution_count": 2,
   "metadata": {},
   "outputs": [
    {
     "data": {
      "application/vnd.jupyter.widget-view+json": {
       "model_id": "6383e03fd2fa45bc96a4b683aaa94193",
       "version_major": 2,
       "version_minor": 0
      },
      "text/plain": [
       "Canvas(toolbar=Toolbar(toolitems=[('Home', 'Reset original view', 'home', 'home'), ('Back', 'Back to previous …"
      ]
     },
     "metadata": {},
     "output_type": "display_data"
    },
    {
     "name": "stderr",
     "output_type": "stream",
     "text": [
      "/home/carlin/projects/naaims/aimsim/pathfinder.py:66: UserWarning: TODO: with inferred destinations\n",
      "  warn(\"TODO: with inferred destinations\")\n"
     ]
    }
   ],
   "source": [
    "reload(SHARED)\n",
    "sim = SingleLaneXNoTurnsSim(length=30, manager_type=FCFSManager)\n",
    "anim = sim.animate(max_timestep=2*60*60)\n",
    "save_mp4(anim, 'fcfs.mp4')\n",
    "# show()"
   ]
  },
  {
   "cell_type": "code",
   "execution_count": 2,
   "metadata": {},
   "outputs": [
    {
     "data": {
      "application/vnd.jupyter.widget-view+json": {
       "model_id": "496d39eccad7421e9b107dffd5c0e607",
       "version_major": 2,
       "version_minor": 0
      },
      "text/plain": [
       "Canvas(toolbar=Toolbar(toolitems=[('Home', 'Reset original view', 'home', 'home'), ('Back', 'Back to previous …"
      ]
     },
     "metadata": {},
     "output_type": "display_data"
    },
    {
     "name": "stderr",
     "output_type": "stream",
     "text": [
      "/home/carlin/projects/naaims/aimsim/pathfinder.py:66: UserWarning: TODO: with inferred destinations\n",
      "  warn(\"TODO: with inferred destinations\")\n"
     ]
    }
   ],
   "source": [
    "reload(SHARED)\n",
    "sim = ZipperMergeSim(length=30)\n",
    "anim = sim.animate(max_timestep=30*60)\n",
    "save_mp4(anim, 'zipper_stop.mp4')"
   ]
  },
  {
   "cell_type": "code",
   "execution_count": 2,
   "metadata": {},
   "outputs": [
    {
     "data": {
      "application/vnd.jupyter.widget-view+json": {
       "model_id": "14431c50baa5432ca9b90213b5644ff0",
       "version_major": 2,
       "version_minor": 0
      },
      "text/plain": [
       "Canvas(toolbar=Toolbar(toolitems=[('Home', 'Reset original view', 'home', 'home'), ('Back', 'Back to previous …"
      ]
     },
     "metadata": {},
     "output_type": "display_data"
    },
    {
     "name": "stderr",
     "output_type": "stream",
     "text": [
      "/home/carlin/projects/naaims/aimsim/pathfinder.py:66: UserWarning: TODO: with inferred destinations\n",
      "  warn(\"TODO: with inferred destinations\")\n"
     ]
    }
   ],
   "source": [
    "reload(SHARED)\n",
    "sim = ZipperMergeSim(length=30, manager_type=FCFSManager)\n",
    "anim = sim.animate(max_timestep=30*60)\n",
    "save_mp4(anim, 'zipper_fcfs.mp4')"
   ]
  },
  {
   "cell_type": "code",
   "execution_count": 2,
   "metadata": {},
   "outputs": [
    {
     "data": {
      "application/vnd.jupyter.widget-view+json": {
       "model_id": "8ca714587be24bcf8616d51668b631ea",
       "version_major": 2,
       "version_minor": 0
      },
      "text/plain": [
       "Canvas(toolbar=Toolbar(toolitems=[('Home', 'Reset original view', 'home', 'home'), ('Back', 'Back to previous …"
      ]
     },
     "metadata": {},
     "output_type": "display_data"
    },
    {
     "name": "stderr",
     "output_type": "stream",
     "text": [
      "/home/carlin/projects/naaims/aimsim/pathfinder.py:66: UserWarning: TODO: with inferred destinations\n",
      "  warn(\"TODO: with inferred destinations\")\n"
     ]
    }
   ],
   "source": [
    "reload(SHARED)\n",
    "sim = SingleIntersectionSim(length=30)\n",
    "anim = sim.animate(max_timestep=2*60*60)\n",
    "save_mp4(anim, 'single_stop.mp4')"
   ]
  },
  {
   "cell_type": "code",
   "execution_count": null,
   "metadata": {},
   "outputs": [],
   "source": []
  }
 ],
 "metadata": {
  "interpreter": {
   "hash": "3dcb5005636e1f2fbdf8c93fd392d41877452f81de998ec0b0cdc763acc5492d"
  },
  "kernelspec": {
   "display_name": "Python 3.9.7 64-bit ('base': conda)",
   "name": "python3"
  },
  "language_info": {
   "codemirror_mode": {
    "name": "ipython",
    "version": 3
   },
   "file_extension": ".py",
   "mimetype": "text/x-python",
   "name": "python",
   "nbconvert_exporter": "python",
   "pygments_lexer": "ipython3",
   "version": "3.9.7"
  }
 },
 "nbformat": 4,
 "nbformat_minor": 5
}
